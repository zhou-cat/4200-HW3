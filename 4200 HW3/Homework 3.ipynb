{
 "cells": [
  {
   "cell_type": "markdown",
   "id": "8c784d9f-4081-4c1d-8f01-3e3fb38bec64",
   "metadata": {},
   "source": [
    "# DS4200 Homework 3\n",
    "\n",
    "Due: Friday Mar 14th @ 11:59 PM EST\n",
    "\n",
    "### Submission Instructions\n",
    "See the instruction for each question\n",
    "\n",
    "### Tips for success\n",
    "- Start early\n",
    "- Make use of Piazza\n",
    "- Make use of Office hour\n",
    "- Remember to use cells and headings to make the notebook easy to read (if a grader cannot find the answer to a problem, you will receive no points for it)\n",
    "- Under no circumstances may one student view or share their ungraded homework or quiz with another student [(see also)](http://www.northeastern.edu/osccr/academic-integrity), though you are welcome to **talk about** (not show each other) the problems."
   ]
  },
  {
   "cell_type": "markdown",
   "id": "99be97ba",
   "metadata": {},
   "source": [
    "## Part 1: Make your website (30 points)\n",
    "\n",
    "In this assignment, you will create a personal website using GitHub Pages. The website will introduce you or showcase something you’re passionate about—whether it's a hobby, academic interest, or a project. This assignment will help you become familiar with GitHub Pages, HTML, CSS, and how to deploy your website online.\n",
    "\n",
    "Requirements:\n",
    "\n",
    "+ Website Structure (15 points): Your website must consist of at least two pages. You are free to structure the site based on the content you wish to highlight, but the following sections are required:\n",
    "    + Home Page (index.html) (5 points):\n",
    "        + A clear heading (e.g., \"Welcome to My Website\" or \"About Me\").\n",
    "        + A short introduction about yourself or the topic you are interested in. (At least 200 words)\n",
    "        + At least one image (e.g., your photo or something that represents your interests).\n",
    "    + A second page (or more) that expands on the details. This could include (5 points):\n",
    "        + Descriptive text explaining the content (At least 200 words)\n",
    "        + At least one image (e.g., your photo or something that represents your interests).\n",
    "        + A list (ordered or unordered) about the topic\n",
    "        + A heading smaller than the one on the Home Page\n",
    "    + Contact Information: Include a contact section (which could be on any of your pages) with links to your email or social media accounts.(2 points)\n",
    "    + Navigation: Your site should have clear navigation between pages, either via a header menu or links, so visitors can move seamlessly between the Home and Additional Page(s). (3 points)\n",
    "+ Styling & Customization (10 points): Style your website using custom CSS. You must implement three different customizations beyond basic styling. These could include:\n",
    "    + Custom fonts or typography.\n",
    "    + Color scheme changes for backgrounds, text, or links.\n",
    "    + Custom margins, padding, or layout adjustments.\n",
    "+ Deployment (5 points): Once your website is complete, ensure it is published on GitHub Pages. Double-check that all links and pages work properly before submitting. "
   ]
  },
  {
   "cell_type": "markdown",
   "id": "5b0f0390-d3eb-4099-bd58-991346d2dc3b",
   "metadata": {},
   "source": [
    "## Submission\n",
    "\n",
    "Once you finish all the questions. Submit all the files related to the website to Gradescope (you can submit the repository directly to Gradescope). Also, please submit a Word document or a .txt file which contains:\n",
    "+ The hyper link of your website\n",
    "+ Decribe all the Styling & Customizations you have done in the Website."
   ]
  },
  {
   "cell_type": "markdown",
   "id": "d2f26355",
   "metadata": {},
   "source": [
    "## Part 2: D3 basic plots (70 points)\n",
    "\n",
    "In this question, we provide a CSV file with the Social Media data. It is a subset data from Kaggle. You need to make three plots by filling the given templete. When submit the homework, please submit both .html and .js. \n",
    "\n",
    "### Part 2.1 Side-by-side boxplot (30 points)\n",
    "\n",
    "Use the Social Media data, make a side by side boxplot to show the distribution of the number of Likes (`Likes`) across four platforms (`Platform`). To make things easier, we can ignore the outliers first. \n",
    "\n",
    "Here is a general approch here: \n",
    "\n",
    "1. In the templete, we provide you a way to read the csv file. Once the data is read into d3. All the inputs are considered as strings. Therefore, the first thing we need to do is to convert the data to numeric type. The code is also provided.\n",
    "2. Setup the SVG canvas, scales and add the scales to the canvas and also add labels for the scales. (5 points) \n",
    "3. In order to make a boxplot, we need to calculate some basic metrics for the data. For each species, we need to calcualte the q1, median and q3. We first define a function called `rollupFunction` to list all the variables we need to calculate. Follow the example for q1 to setup for median and q3, or any other values you need. (5 points)\n",
    "4. Add comments for the following two lines (add in the .js file) to explain what those codes are doing. (5 points) \n",
    "    \n",
    "    ```js\n",
    "    const quartilesBySpecies = d3.rollup(data, rollupFunction, d => d.species);\n",
    "\n",
    "    quartilesBySpecies.forEach((quartiles, species) => {\n",
    "        const x = xScale(species);\n",
    "        const boxWidth = xScale.bandwidth();\n",
    "    ```\n",
    "5. Inside the `.forEach` function, draw the boxes. There are three things you need to draw for the box plot: \n",
    "    - The vertical line in the middel from the q1-1.5 * IQR to q3+1.5 * IQR. However, in this particular question, since this range is quite large, you can just plot a line from the minimum value to the maximum value for each group.  (5 points)\n",
    "    - The rectangular shape from q1 to q3. You can add some color (the same color as the background) to hide the vertical line in the back.  (5 points)\n",
    "    - The horizental line for median (5 points)\n",
    "\n"
   ]
  },
  {
   "cell_type": "markdown",
   "id": "274ba19e-b5c2-4712-a7a8-380fb31c01b6",
   "metadata": {},
   "source": [
    "### Part 2.2 Side-by-side bar plot (30 points)\n",
    "\n",
    "Use the Social Media data, make a side-by-side bar plot to show the relationship between `Platform`, `PostType` and average number of `Likes`. Use differnt color for each post type. Before you load the data into JS, you need to clean and get a summerized version of data like: \n",
    "\n",
    "|   |  Platform | PostType | AvgLikes |\n",
    "|--:|----------:|---------:|---------:|\n",
    "| 0 |  Facebook |    Image |   555.89 |\n",
    "| 1 |  Facebook |     Link |   468.69 |\n",
    "| 2 |  Facebook |    Video |   505.00 |\n",
    "| 3 | Instagram |    Image |   502.64 |\n",
    "| 4 | Instagram |     Link |   459.34 |\n",
    "\n",
    "Each row is a unique combination of platform and post type with average number of likes. Keep 2 decimal will be enough. Name the dataset as `SocialMediaAvg.csv` and keep the feature names as in the example above. Note: This step can also be done with D3 but it is more complicated than using Python or any other data analysis tools. \n",
    "\n",
    "Here is a general approch here: \n",
    "\n",
    "1. Load the data you just made. First convert the strings into numeric data as we did in previous question. Setup the SVG canvas. (5 points)\n",
    "2. Set up scales. You need to define four scales. Scale x0 is for the platform, which divide the whole x scale into 4 parts. Scale x1 is for the post type, which divide each bandwidth of the previous x0 scale into three part for each post type. Scale y is numerical for the average number of likes. The color scale for the post type is provided. (10 points)\n",
    "3. Add scales and labels to the plot. (5 points)\n",
    "4. We group the data for each platform (code provided). Add Rect for each post type with color. (5 points)\n",
    "5. Complete the legend. The legend has two parts. The rect and the text. The text information for the legend is provided. Now add a small square/rect bar next to the text with corresponding color. (5 points)"
   ]
  },
  {
   "cell_type": "markdown",
   "id": "e0a02f08-9f10-4124-91b7-1be9223d1985",
   "metadata": {},
   "source": [
    "### Part 2.3 Line plot (10 points)\n",
    "\n",
    "Use the Social Media data, make a line plot to show the relationship between Date and average number of Likes. Similar to the part 2.2, before you load the data into JS, you need to clean and get a summerized version of data like: "
   ]
  },
  {
   "cell_type": "markdown",
   "id": "3e5e0c4e-53ba-4a1e-b589-081563e4fad8",
   "metadata": {},
   "source": [
    "|   |                 Date |   AvgLikes |\n",
    "|--:|---------------------:|-----------:|\n",
    "| 0 |    3/1/2024 (Friday) | 478.504950 |\n",
    "| 1 |  3/2/2024 (Saturday) | 477.986842 |\n",
    "| 2 |    3/3/2024 (Sunday) | 542.420455 |\n",
    "| 3 |    3/4/2024 (Monday) | 523.585106 |\n",
    "| 4 |   3/5/2024 (Tuesday) | 423.258427 |\n",
    "| 5 | 3/6/2024 (Wednesday) | 552.942529 |\n",
    "| 6 |  3/7/2024 (Thursday) | 485.793478 |"
   ]
  },
  {
   "cell_type": "markdown",
   "id": "c5513efe-f660-4fe4-8499-affe839ed823",
   "metadata": {},
   "source": [
    "Name the dataset as `SocialMediaTime.csv` and keep the feature names as in the example above. Follow the general approch in the templete. \n",
    "\n",
    "1. Load the data you just made. First convert the strings into numeric data as we did in previous question. Setup the SVG canvas, scales and add the scales to the canvas and also add labels for the scales. (5 points) \n",
    "2. Make the line and path. Remember to use curveNatural. (5 points)\n",
    "\n",
    "Note, if the words are too long to show, you can include\n",
    "\n",
    "    .style(\"text-anchor\", \"end\")\n",
    "    .attr(\"transform\", \"rotate(-25)\")\n",
    "    \n",
    "when you add the x-axis to add some rotation for the x axis labels. )"
   ]
  },
  {
   "cell_type": "markdown",
   "id": "d8648737",
   "metadata": {},
   "source": [
    "## Submission\n",
    "\n",
    "Once you finish all the questions, submit the .html and .js for the D3 part to Gradescope. No need to include any data. You can choose to upload all your codes with a folder on GitHub repository in the part 1 and submit the repository. Or, you just zip all the files with different folders to specify different parts."
   ]
  }
 ],
 "metadata": {
  "kernelspec": {
   "display_name": "Python 3 (ipykernel)",
   "language": "python",
   "name": "python3"
  },
  "language_info": {
   "codemirror_mode": {
    "name": "ipython",
    "version": 3
   },
   "file_extension": ".py",
   "mimetype": "text/x-python",
   "name": "python",
   "nbconvert_exporter": "python",
   "pygments_lexer": "ipython3",
   "version": "3.11.7"
  }
 },
 "nbformat": 4,
 "nbformat_minor": 5
}
